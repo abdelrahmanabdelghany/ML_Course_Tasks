{
  "cells": [
    {
      "cell_type": "markdown",
      "metadata": {
        "id": "04b5d1a1-4378-4074-87ab-2f2c669440e9"
      },
      "source": [
        "Please write your full name here\n",
        "- **Name** : Abdelrahman Muhsen Abdellatif\n"
      ],
      "id": "04b5d1a1-4378-4074-87ab-2f2c669440e9"
    },
    {
      "cell_type": "code",
      "source": [
        ""
      ],
      "metadata": {
        "id": "_ZpWr-bY4O7h"
      },
      "id": "_ZpWr-bY4O7h",
      "execution_count": 1,
      "outputs": []
    },
    {
      "cell_type": "markdown",
      "metadata": {
        "id": "b21dd90e-5130-4c0f-8dd9-d13a5065db88"
      },
      "source": [
        "## Introduction to Machine Learning\n",
        "For this assignment, you will be using the Breast Cancer Wisconsin (Diagnostic) Database to create a classifier that can help diagnose patients. First, read through the description of the dataset (below)."
      ],
      "id": "b21dd90e-5130-4c0f-8dd9-d13a5065db88"
    },
    {
      "cell_type": "code",
      "execution_count": 2,
      "metadata": {
        "id": "68e651ae-cf60-4e23-aa51-4ca39dd77573"
      },
      "outputs": [],
      "source": [
        "import numpy as np\n",
        "import pandas as pd\n",
        "from sklearn.datasets import load_breast_cancer\n",
        "\n",
        "cancer = load_breast_cancer()\n",
        "\n",
        "#print(cancer.DESCR) # Print the data set description"
      ],
      "id": "68e651ae-cf60-4e23-aa51-4ca39dd77573"
    },
    {
      "cell_type": "markdown",
      "metadata": {
        "id": "2351a51c-3694-43d8-92c6-7c236b1beb3e"
      },
      "source": [
        "The object returned by `load_breast_cancer()` is a scikit-learn Bunch object, which is similar to a dictionary."
      ],
      "id": "2351a51c-3694-43d8-92c6-7c236b1beb3e"
    },
    {
      "cell_type": "code",
      "execution_count": 3,
      "metadata": {
        "colab": {
          "base_uri": "https://localhost:8080/"
        },
        "id": "fe395f5a-c610-4171-be0a-bb31d8f5d452",
        "outputId": "1eb0d721-5804-4534-d45d-6d4efba435f6"
      },
      "outputs": [
        {
          "output_type": "execute_result",
          "data": {
            "text/plain": [
              "dict_keys(['data', 'target', 'frame', 'target_names', 'DESCR', 'feature_names', 'filename', 'data_module'])"
            ]
          },
          "metadata": {},
          "execution_count": 3
        }
      ],
      "source": [
        "cancer.keys()"
      ],
      "id": "fe395f5a-c610-4171-be0a-bb31d8f5d452"
    },
    {
      "cell_type": "markdown",
      "metadata": {
        "id": "1892678c-6743-4719-ac12-2c8775c35969"
      },
      "source": [
        "### Question 0\n",
        "\n",
        "How many features does the breast cancer dataset have?\n",
        "\n",
        "*This function should return an integer.*"
      ],
      "id": "1892678c-6743-4719-ac12-2c8775c35969"
    },
    {
      "cell_type": "code",
      "execution_count": 4,
      "metadata": {
        "id": "f5a2a53b-71b5-4f24-a7c5-9523a2f28cdd"
      },
      "outputs": [],
      "source": [
        "def answer_zero():\n",
        "    # write your answer code here to question 0\n",
        "    return len(cancer.feature_names)\n"
      ],
      "id": "f5a2a53b-71b5-4f24-a7c5-9523a2f28cdd"
    },
    {
      "cell_type": "markdown",
      "metadata": {
        "id": "4f4a4289-dc2f-498a-8305-afe03ff24714"
      },
      "source": [
        "### Question 1\n",
        "Pandas dataframes are much easier and more interpretable when dealing with tables. **Convert the cancer data into dataframe.**\n",
        "\n",
        "Note: Scikit-learn works with lists, numpy arrays, scipy-sparse matrices, and pandas DataFrames, so converting the dataset to a DataFrame is not necessary for training any model.\n",
        "\n",
        "*This function should return a (569, 31) DataFrame with *\n",
        "\n",
        "*columns = *\n",
        "\n",
        "    ['mean radius', 'mean texture', 'mean perimeter', 'mean area',\n",
        "    'mean smoothness', 'mean compactness', 'mean concavity',\n",
        "    'mean concave points', 'mean symmetry', 'mean fractal dimension',\n",
        "    'radius error', 'texture error', 'perimeter error', 'area error',\n",
        "    'smoothness error', 'compactness error', 'concavity error',\n",
        "    'concave points error', 'symmetry error', 'fractal dimension error',\n",
        "    'worst radius', 'worst texture', 'worst perimeter', 'worst area',\n",
        "    'worst smoothness', 'worst compactness', 'worst concavity',\n",
        "    'worst concave points', 'worst symmetry', 'worst fractal dimension',\n",
        "    'target']\n",
        "    \n",
        "*and index = *\n",
        "\n",
        "RangeIndex(start=0, stop=569, step=1)"
      ],
      "id": "4f4a4289-dc2f-498a-8305-afe03ff24714"
    },
    {
      "cell_type": "code",
      "execution_count": 5,
      "metadata": {
        "colab": {
          "base_uri": "https://localhost:8080/",
          "height": 522
        },
        "id": "233db5f6-d74f-42ee-b6c3-537447effcab",
        "outputId": "0e52cbe7-ed3f-468e-85d8-fca86ecadb15"
      },
      "outputs": [
        {
          "output_type": "execute_result",
          "data": {
            "text/html": [
              "\n",
              "  <div id=\"df-f1074c7e-9ce0-45e5-8c09-11f6638b84cc\">\n",
              "    <div class=\"colab-df-container\">\n",
              "      <div>\n",
              "<style scoped>\n",
              "    .dataframe tbody tr th:only-of-type {\n",
              "        vertical-align: middle;\n",
              "    }\n",
              "\n",
              "    .dataframe tbody tr th {\n",
              "        vertical-align: top;\n",
              "    }\n",
              "\n",
              "    .dataframe thead th {\n",
              "        text-align: right;\n",
              "    }\n",
              "</style>\n",
              "<table border=\"1\" class=\"dataframe\">\n",
              "  <thead>\n",
              "    <tr style=\"text-align: right;\">\n",
              "      <th></th>\n",
              "      <th>mean radius</th>\n",
              "      <th>mean texture</th>\n",
              "      <th>mean perimeter</th>\n",
              "      <th>mean area</th>\n",
              "      <th>mean smoothness</th>\n",
              "      <th>mean compactness</th>\n",
              "      <th>mean concavity</th>\n",
              "      <th>mean concave points</th>\n",
              "      <th>mean symmetry</th>\n",
              "      <th>mean fractal dimension</th>\n",
              "      <th>...</th>\n",
              "      <th>worst texture</th>\n",
              "      <th>worst perimeter</th>\n",
              "      <th>worst area</th>\n",
              "      <th>worst smoothness</th>\n",
              "      <th>worst compactness</th>\n",
              "      <th>worst concavity</th>\n",
              "      <th>worst concave points</th>\n",
              "      <th>worst symmetry</th>\n",
              "      <th>worst fractal dimension</th>\n",
              "      <th>target</th>\n",
              "    </tr>\n",
              "  </thead>\n",
              "  <tbody>\n",
              "    <tr>\n",
              "      <th>0</th>\n",
              "      <td>17.99</td>\n",
              "      <td>10.38</td>\n",
              "      <td>122.80</td>\n",
              "      <td>1001.0</td>\n",
              "      <td>0.11840</td>\n",
              "      <td>0.27760</td>\n",
              "      <td>0.30010</td>\n",
              "      <td>0.14710</td>\n",
              "      <td>0.2419</td>\n",
              "      <td>0.07871</td>\n",
              "      <td>...</td>\n",
              "      <td>17.33</td>\n",
              "      <td>184.60</td>\n",
              "      <td>2019.0</td>\n",
              "      <td>0.16220</td>\n",
              "      <td>0.66560</td>\n",
              "      <td>0.7119</td>\n",
              "      <td>0.2654</td>\n",
              "      <td>0.4601</td>\n",
              "      <td>0.11890</td>\n",
              "      <td>0</td>\n",
              "    </tr>\n",
              "    <tr>\n",
              "      <th>1</th>\n",
              "      <td>20.57</td>\n",
              "      <td>17.77</td>\n",
              "      <td>132.90</td>\n",
              "      <td>1326.0</td>\n",
              "      <td>0.08474</td>\n",
              "      <td>0.07864</td>\n",
              "      <td>0.08690</td>\n",
              "      <td>0.07017</td>\n",
              "      <td>0.1812</td>\n",
              "      <td>0.05667</td>\n",
              "      <td>...</td>\n",
              "      <td>23.41</td>\n",
              "      <td>158.80</td>\n",
              "      <td>1956.0</td>\n",
              "      <td>0.12380</td>\n",
              "      <td>0.18660</td>\n",
              "      <td>0.2416</td>\n",
              "      <td>0.1860</td>\n",
              "      <td>0.2750</td>\n",
              "      <td>0.08902</td>\n",
              "      <td>0</td>\n",
              "    </tr>\n",
              "    <tr>\n",
              "      <th>2</th>\n",
              "      <td>19.69</td>\n",
              "      <td>21.25</td>\n",
              "      <td>130.00</td>\n",
              "      <td>1203.0</td>\n",
              "      <td>0.10960</td>\n",
              "      <td>0.15990</td>\n",
              "      <td>0.19740</td>\n",
              "      <td>0.12790</td>\n",
              "      <td>0.2069</td>\n",
              "      <td>0.05999</td>\n",
              "      <td>...</td>\n",
              "      <td>25.53</td>\n",
              "      <td>152.50</td>\n",
              "      <td>1709.0</td>\n",
              "      <td>0.14440</td>\n",
              "      <td>0.42450</td>\n",
              "      <td>0.4504</td>\n",
              "      <td>0.2430</td>\n",
              "      <td>0.3613</td>\n",
              "      <td>0.08758</td>\n",
              "      <td>0</td>\n",
              "    </tr>\n",
              "    <tr>\n",
              "      <th>3</th>\n",
              "      <td>11.42</td>\n",
              "      <td>20.38</td>\n",
              "      <td>77.58</td>\n",
              "      <td>386.1</td>\n",
              "      <td>0.14250</td>\n",
              "      <td>0.28390</td>\n",
              "      <td>0.24140</td>\n",
              "      <td>0.10520</td>\n",
              "      <td>0.2597</td>\n",
              "      <td>0.09744</td>\n",
              "      <td>...</td>\n",
              "      <td>26.50</td>\n",
              "      <td>98.87</td>\n",
              "      <td>567.7</td>\n",
              "      <td>0.20980</td>\n",
              "      <td>0.86630</td>\n",
              "      <td>0.6869</td>\n",
              "      <td>0.2575</td>\n",
              "      <td>0.6638</td>\n",
              "      <td>0.17300</td>\n",
              "      <td>0</td>\n",
              "    </tr>\n",
              "    <tr>\n",
              "      <th>4</th>\n",
              "      <td>20.29</td>\n",
              "      <td>14.34</td>\n",
              "      <td>135.10</td>\n",
              "      <td>1297.0</td>\n",
              "      <td>0.10030</td>\n",
              "      <td>0.13280</td>\n",
              "      <td>0.19800</td>\n",
              "      <td>0.10430</td>\n",
              "      <td>0.1809</td>\n",
              "      <td>0.05883</td>\n",
              "      <td>...</td>\n",
              "      <td>16.67</td>\n",
              "      <td>152.20</td>\n",
              "      <td>1575.0</td>\n",
              "      <td>0.13740</td>\n",
              "      <td>0.20500</td>\n",
              "      <td>0.4000</td>\n",
              "      <td>0.1625</td>\n",
              "      <td>0.2364</td>\n",
              "      <td>0.07678</td>\n",
              "      <td>0</td>\n",
              "    </tr>\n",
              "    <tr>\n",
              "      <th>...</th>\n",
              "      <td>...</td>\n",
              "      <td>...</td>\n",
              "      <td>...</td>\n",
              "      <td>...</td>\n",
              "      <td>...</td>\n",
              "      <td>...</td>\n",
              "      <td>...</td>\n",
              "      <td>...</td>\n",
              "      <td>...</td>\n",
              "      <td>...</td>\n",
              "      <td>...</td>\n",
              "      <td>...</td>\n",
              "      <td>...</td>\n",
              "      <td>...</td>\n",
              "      <td>...</td>\n",
              "      <td>...</td>\n",
              "      <td>...</td>\n",
              "      <td>...</td>\n",
              "      <td>...</td>\n",
              "      <td>...</td>\n",
              "      <td>...</td>\n",
              "    </tr>\n",
              "    <tr>\n",
              "      <th>564</th>\n",
              "      <td>21.56</td>\n",
              "      <td>22.39</td>\n",
              "      <td>142.00</td>\n",
              "      <td>1479.0</td>\n",
              "      <td>0.11100</td>\n",
              "      <td>0.11590</td>\n",
              "      <td>0.24390</td>\n",
              "      <td>0.13890</td>\n",
              "      <td>0.1726</td>\n",
              "      <td>0.05623</td>\n",
              "      <td>...</td>\n",
              "      <td>26.40</td>\n",
              "      <td>166.10</td>\n",
              "      <td>2027.0</td>\n",
              "      <td>0.14100</td>\n",
              "      <td>0.21130</td>\n",
              "      <td>0.4107</td>\n",
              "      <td>0.2216</td>\n",
              "      <td>0.2060</td>\n",
              "      <td>0.07115</td>\n",
              "      <td>0</td>\n",
              "    </tr>\n",
              "    <tr>\n",
              "      <th>565</th>\n",
              "      <td>20.13</td>\n",
              "      <td>28.25</td>\n",
              "      <td>131.20</td>\n",
              "      <td>1261.0</td>\n",
              "      <td>0.09780</td>\n",
              "      <td>0.10340</td>\n",
              "      <td>0.14400</td>\n",
              "      <td>0.09791</td>\n",
              "      <td>0.1752</td>\n",
              "      <td>0.05533</td>\n",
              "      <td>...</td>\n",
              "      <td>38.25</td>\n",
              "      <td>155.00</td>\n",
              "      <td>1731.0</td>\n",
              "      <td>0.11660</td>\n",
              "      <td>0.19220</td>\n",
              "      <td>0.3215</td>\n",
              "      <td>0.1628</td>\n",
              "      <td>0.2572</td>\n",
              "      <td>0.06637</td>\n",
              "      <td>0</td>\n",
              "    </tr>\n",
              "    <tr>\n",
              "      <th>566</th>\n",
              "      <td>16.60</td>\n",
              "      <td>28.08</td>\n",
              "      <td>108.30</td>\n",
              "      <td>858.1</td>\n",
              "      <td>0.08455</td>\n",
              "      <td>0.10230</td>\n",
              "      <td>0.09251</td>\n",
              "      <td>0.05302</td>\n",
              "      <td>0.1590</td>\n",
              "      <td>0.05648</td>\n",
              "      <td>...</td>\n",
              "      <td>34.12</td>\n",
              "      <td>126.70</td>\n",
              "      <td>1124.0</td>\n",
              "      <td>0.11390</td>\n",
              "      <td>0.30940</td>\n",
              "      <td>0.3403</td>\n",
              "      <td>0.1418</td>\n",
              "      <td>0.2218</td>\n",
              "      <td>0.07820</td>\n",
              "      <td>0</td>\n",
              "    </tr>\n",
              "    <tr>\n",
              "      <th>567</th>\n",
              "      <td>20.60</td>\n",
              "      <td>29.33</td>\n",
              "      <td>140.10</td>\n",
              "      <td>1265.0</td>\n",
              "      <td>0.11780</td>\n",
              "      <td>0.27700</td>\n",
              "      <td>0.35140</td>\n",
              "      <td>0.15200</td>\n",
              "      <td>0.2397</td>\n",
              "      <td>0.07016</td>\n",
              "      <td>...</td>\n",
              "      <td>39.42</td>\n",
              "      <td>184.60</td>\n",
              "      <td>1821.0</td>\n",
              "      <td>0.16500</td>\n",
              "      <td>0.86810</td>\n",
              "      <td>0.9387</td>\n",
              "      <td>0.2650</td>\n",
              "      <td>0.4087</td>\n",
              "      <td>0.12400</td>\n",
              "      <td>0</td>\n",
              "    </tr>\n",
              "    <tr>\n",
              "      <th>568</th>\n",
              "      <td>7.76</td>\n",
              "      <td>24.54</td>\n",
              "      <td>47.92</td>\n",
              "      <td>181.0</td>\n",
              "      <td>0.05263</td>\n",
              "      <td>0.04362</td>\n",
              "      <td>0.00000</td>\n",
              "      <td>0.00000</td>\n",
              "      <td>0.1587</td>\n",
              "      <td>0.05884</td>\n",
              "      <td>...</td>\n",
              "      <td>30.37</td>\n",
              "      <td>59.16</td>\n",
              "      <td>268.6</td>\n",
              "      <td>0.08996</td>\n",
              "      <td>0.06444</td>\n",
              "      <td>0.0000</td>\n",
              "      <td>0.0000</td>\n",
              "      <td>0.2871</td>\n",
              "      <td>0.07039</td>\n",
              "      <td>1</td>\n",
              "    </tr>\n",
              "  </tbody>\n",
              "</table>\n",
              "<p>569 rows × 31 columns</p>\n",
              "</div>\n",
              "      <button class=\"colab-df-convert\" onclick=\"convertToInteractive('df-f1074c7e-9ce0-45e5-8c09-11f6638b84cc')\"\n",
              "              title=\"Convert this dataframe to an interactive table.\"\n",
              "              style=\"display:none;\">\n",
              "        \n",
              "  <svg xmlns=\"http://www.w3.org/2000/svg\" height=\"24px\"viewBox=\"0 0 24 24\"\n",
              "       width=\"24px\">\n",
              "    <path d=\"M0 0h24v24H0V0z\" fill=\"none\"/>\n",
              "    <path d=\"M18.56 5.44l.94 2.06.94-2.06 2.06-.94-2.06-.94-.94-2.06-.94 2.06-2.06.94zm-11 1L8.5 8.5l.94-2.06 2.06-.94-2.06-.94L8.5 2.5l-.94 2.06-2.06.94zm10 10l.94 2.06.94-2.06 2.06-.94-2.06-.94-.94-2.06-.94 2.06-2.06.94z\"/><path d=\"M17.41 7.96l-1.37-1.37c-.4-.4-.92-.59-1.43-.59-.52 0-1.04.2-1.43.59L10.3 9.45l-7.72 7.72c-.78.78-.78 2.05 0 2.83L4 21.41c.39.39.9.59 1.41.59.51 0 1.02-.2 1.41-.59l7.78-7.78 2.81-2.81c.8-.78.8-2.07 0-2.86zM5.41 20L4 18.59l7.72-7.72 1.47 1.35L5.41 20z\"/>\n",
              "  </svg>\n",
              "      </button>\n",
              "      \n",
              "  <style>\n",
              "    .colab-df-container {\n",
              "      display:flex;\n",
              "      flex-wrap:wrap;\n",
              "      gap: 12px;\n",
              "    }\n",
              "\n",
              "    .colab-df-convert {\n",
              "      background-color: #E8F0FE;\n",
              "      border: none;\n",
              "      border-radius: 50%;\n",
              "      cursor: pointer;\n",
              "      display: none;\n",
              "      fill: #1967D2;\n",
              "      height: 32px;\n",
              "      padding: 0 0 0 0;\n",
              "      width: 32px;\n",
              "    }\n",
              "\n",
              "    .colab-df-convert:hover {\n",
              "      background-color: #E2EBFA;\n",
              "      box-shadow: 0px 1px 2px rgba(60, 64, 67, 0.3), 0px 1px 3px 1px rgba(60, 64, 67, 0.15);\n",
              "      fill: #174EA6;\n",
              "    }\n",
              "\n",
              "    [theme=dark] .colab-df-convert {\n",
              "      background-color: #3B4455;\n",
              "      fill: #D2E3FC;\n",
              "    }\n",
              "\n",
              "    [theme=dark] .colab-df-convert:hover {\n",
              "      background-color: #434B5C;\n",
              "      box-shadow: 0px 1px 3px 1px rgba(0, 0, 0, 0.15);\n",
              "      filter: drop-shadow(0px 1px 2px rgba(0, 0, 0, 0.3));\n",
              "      fill: #FFFFFF;\n",
              "    }\n",
              "  </style>\n",
              "\n",
              "      <script>\n",
              "        const buttonEl =\n",
              "          document.querySelector('#df-f1074c7e-9ce0-45e5-8c09-11f6638b84cc button.colab-df-convert');\n",
              "        buttonEl.style.display =\n",
              "          google.colab.kernel.accessAllowed ? 'block' : 'none';\n",
              "\n",
              "        async function convertToInteractive(key) {\n",
              "          const element = document.querySelector('#df-f1074c7e-9ce0-45e5-8c09-11f6638b84cc');\n",
              "          const dataTable =\n",
              "            await google.colab.kernel.invokeFunction('convertToInteractive',\n",
              "                                                     [key], {});\n",
              "          if (!dataTable) return;\n",
              "\n",
              "          const docLinkHtml = 'Like what you see? Visit the ' +\n",
              "            '<a target=\"_blank\" href=https://colab.research.google.com/notebooks/data_table.ipynb>data table notebook</a>'\n",
              "            + ' to learn more about interactive tables.';\n",
              "          element.innerHTML = '';\n",
              "          dataTable['output_type'] = 'display_data';\n",
              "          await google.colab.output.renderOutput(dataTable, element);\n",
              "          const docLink = document.createElement('div');\n",
              "          docLink.innerHTML = docLinkHtml;\n",
              "          element.appendChild(docLink);\n",
              "        }\n",
              "      </script>\n",
              "    </div>\n",
              "  </div>\n",
              "  "
            ],
            "text/plain": [
              "     mean radius  mean texture  mean perimeter  mean area  mean smoothness  \\\n",
              "0          17.99         10.38          122.80     1001.0          0.11840   \n",
              "1          20.57         17.77          132.90     1326.0          0.08474   \n",
              "2          19.69         21.25          130.00     1203.0          0.10960   \n",
              "3          11.42         20.38           77.58      386.1          0.14250   \n",
              "4          20.29         14.34          135.10     1297.0          0.10030   \n",
              "..           ...           ...             ...        ...              ...   \n",
              "564        21.56         22.39          142.00     1479.0          0.11100   \n",
              "565        20.13         28.25          131.20     1261.0          0.09780   \n",
              "566        16.60         28.08          108.30      858.1          0.08455   \n",
              "567        20.60         29.33          140.10     1265.0          0.11780   \n",
              "568         7.76         24.54           47.92      181.0          0.05263   \n",
              "\n",
              "     mean compactness  mean concavity  mean concave points  mean symmetry  \\\n",
              "0             0.27760         0.30010              0.14710         0.2419   \n",
              "1             0.07864         0.08690              0.07017         0.1812   \n",
              "2             0.15990         0.19740              0.12790         0.2069   \n",
              "3             0.28390         0.24140              0.10520         0.2597   \n",
              "4             0.13280         0.19800              0.10430         0.1809   \n",
              "..                ...             ...                  ...            ...   \n",
              "564           0.11590         0.24390              0.13890         0.1726   \n",
              "565           0.10340         0.14400              0.09791         0.1752   \n",
              "566           0.10230         0.09251              0.05302         0.1590   \n",
              "567           0.27700         0.35140              0.15200         0.2397   \n",
              "568           0.04362         0.00000              0.00000         0.1587   \n",
              "\n",
              "     mean fractal dimension  ...  worst texture  worst perimeter  worst area  \\\n",
              "0                   0.07871  ...          17.33           184.60      2019.0   \n",
              "1                   0.05667  ...          23.41           158.80      1956.0   \n",
              "2                   0.05999  ...          25.53           152.50      1709.0   \n",
              "3                   0.09744  ...          26.50            98.87       567.7   \n",
              "4                   0.05883  ...          16.67           152.20      1575.0   \n",
              "..                      ...  ...            ...              ...         ...   \n",
              "564                 0.05623  ...          26.40           166.10      2027.0   \n",
              "565                 0.05533  ...          38.25           155.00      1731.0   \n",
              "566                 0.05648  ...          34.12           126.70      1124.0   \n",
              "567                 0.07016  ...          39.42           184.60      1821.0   \n",
              "568                 0.05884  ...          30.37            59.16       268.6   \n",
              "\n",
              "     worst smoothness  worst compactness  worst concavity  \\\n",
              "0             0.16220            0.66560           0.7119   \n",
              "1             0.12380            0.18660           0.2416   \n",
              "2             0.14440            0.42450           0.4504   \n",
              "3             0.20980            0.86630           0.6869   \n",
              "4             0.13740            0.20500           0.4000   \n",
              "..                ...                ...              ...   \n",
              "564           0.14100            0.21130           0.4107   \n",
              "565           0.11660            0.19220           0.3215   \n",
              "566           0.11390            0.30940           0.3403   \n",
              "567           0.16500            0.86810           0.9387   \n",
              "568           0.08996            0.06444           0.0000   \n",
              "\n",
              "     worst concave points  worst symmetry  worst fractal dimension  target  \n",
              "0                  0.2654          0.4601                  0.11890       0  \n",
              "1                  0.1860          0.2750                  0.08902       0  \n",
              "2                  0.2430          0.3613                  0.08758       0  \n",
              "3                  0.2575          0.6638                  0.17300       0  \n",
              "4                  0.1625          0.2364                  0.07678       0  \n",
              "..                    ...             ...                      ...     ...  \n",
              "564                0.2216          0.2060                  0.07115       0  \n",
              "565                0.1628          0.2572                  0.06637       0  \n",
              "566                0.1418          0.2218                  0.07820       0  \n",
              "567                0.2650          0.4087                  0.12400       0  \n",
              "568                0.0000          0.2871                  0.07039       1  \n",
              "\n",
              "[569 rows x 31 columns]"
            ]
          },
          "metadata": {},
          "execution_count": 5
        }
      ],
      "source": [
        "def answer_one():\n",
        "    \n",
        "    # Your code here\n",
        "    dataframeDataSet=pd.DataFrame(data=cancer.data,columns=cancer.feature_names)\n",
        "    dataframeDataSet['target']=cancer.target\n",
        "    return dataframeDataSet\n",
        "\n",
        "\n",
        "answer_one()"
      ],
      "id": "233db5f6-d74f-42ee-b6c3-537447effcab"
    },
    {
      "cell_type": "markdown",
      "metadata": {
        "id": "8e4add0a-d9d3-4052-bcf2-56b61c4bf53f"
      },
      "source": [
        "### Question 2\n",
        "What is the class distribution? (i.e. how many instances of `malignant` and how many `benign`?)"
      ],
      "id": "8e4add0a-d9d3-4052-bcf2-56b61c4bf53f"
    },
    {
      "cell_type": "code",
      "execution_count": 6,
      "metadata": {
        "colab": {
          "base_uri": "https://localhost:8080/"
        },
        "id": "514559d7-5afe-4e40-aca8-c257dca18a5f",
        "outputId": "1a14928a-5fd0-49d2-de52-afd9839cac70"
      },
      "outputs": [
        {
          "output_type": "execute_result",
          "data": {
            "text/plain": [
              "(212, 357)"
            ]
          },
          "metadata": {},
          "execution_count": 6
        }
      ],
      "source": [
        "def answer_two():\n",
        "    cancerdf = answer_one()\n",
        "    Numbenign=cancerdf['target'].sum()\n",
        "    NumMalignant=len(cancerdf['target'])-Numbenign\n",
        "    \n",
        "    return NumMalignant,Numbenign\n",
        "\n",
        "\n",
        "answer_two()"
      ],
      "id": "514559d7-5afe-4e40-aca8-c257dca18a5f"
    },
    {
      "cell_type": "markdown",
      "metadata": {
        "id": "5c8cc5ea-3c4b-45aa-98a3-255d5b2a1b77"
      },
      "source": [
        "### Question 3\n",
        "Split the DataFrame into `X` (the data) and `y` (the labels)."
      ],
      "id": "5c8cc5ea-3c4b-45aa-98a3-255d5b2a1b77"
    },
    {
      "cell_type": "code",
      "execution_count": 7,
      "metadata": {
        "id": "44a936d7-b539-4311-a137-d0304610dd09"
      },
      "outputs": [],
      "source": [
        "def answer_three():\n",
        "    cancerdf = answer_one()\n",
        "    y=cancerdf['target']\n",
        "    X=cancerdf.iloc[:,:-1]\n",
        "    # Your code here\n",
        "    \n",
        "    return X, y"
      ],
      "id": "44a936d7-b539-4311-a137-d0304610dd09"
    },
    {
      "cell_type": "markdown",
      "metadata": {
        "id": "0f3336f9-9517-4a9a-91ca-fba2bb25d6dc"
      },
      "source": [
        "### Question 4\n",
        "Using `train_test_split`, split `X` and `y` into training and test sets"
      ],
      "id": "0f3336f9-9517-4a9a-91ca-fba2bb25d6dc"
    },
    {
      "cell_type": "code",
      "execution_count": 8,
      "metadata": {
        "id": "180b69e2-b4cb-488f-909e-79cee866fa4f"
      },
      "outputs": [],
      "source": [
        "from sklearn.model_selection import train_test_split\n",
        "\n",
        "def answer_four():\n",
        "    X, y = answer_three()\n",
        "    \n",
        "    # Your code here\n",
        "    X_train, X_test, y_train, y_test = train_test_split(X, y, test_size=0.33, shuffle=True)\n",
        "    \n",
        "    return X_train, X_test, y_train, y_test"
      ],
      "id": "180b69e2-b4cb-488f-909e-79cee866fa4f"
    },
    {
      "cell_type": "markdown",
      "metadata": {
        "id": "bcb50095-8bec-4d75-9160-8338f9801dae"
      },
      "source": [
        "### Question 5\n",
        "Using KNeighborsClassifier, fit a k-nearest neighbors (knn) classifier with `X_train`, `y_train`."
      ],
      "id": "bcb50095-8bec-4d75-9160-8338f9801dae"
    },
    {
      "cell_type": "code",
      "execution_count": 9,
      "metadata": {
        "id": "a6e5acd3-af98-4ab7-b309-40b319f9bf33"
      },
      "outputs": [],
      "source": [
        "from sklearn.neighbors import KNeighborsClassifier\n",
        "classifier=KNeighborsClassifier()\n",
        "def answer_five():\n",
        "    X_train, X_test, y_train, y_test = answer_four()\n",
        "    classifier.fit(X_train,y_train)    \n",
        "    return classifier"
      ],
      "id": "a6e5acd3-af98-4ab7-b309-40b319f9bf33"
    },
    {
      "cell_type": "markdown",
      "metadata": {
        "id": "55dbd498-cb23-4cab-9138-c4b7e7db82c1"
      },
      "source": [
        "### Question 6\n",
        "Using your knn classifier, predict the class label using the median value for each feature."
      ],
      "id": "55dbd498-cb23-4cab-9138-c4b7e7db82c1"
    },
    {
      "cell_type": "code",
      "execution_count": 10,
      "metadata": {
        "colab": {
          "base_uri": "https://localhost:8080/"
        },
        "id": "e6d989ab-6fd5-440a-933f-b6c6ff1072b4",
        "outputId": "a4eac416-f869-46c5-f163-76375f2d836c"
      },
      "outputs": [
        {
          "output_type": "stream",
          "name": "stdout",
          "text": [
            "[1.337e+01 1.884e+01 8.624e+01 5.511e+02 9.587e-02 9.263e-02 6.154e-02\n",
            " 3.350e-02 1.792e-01 6.154e-02 3.242e-01 1.108e+00 2.287e+00 2.453e+01\n",
            " 6.380e-03 2.045e-02 2.589e-02 1.093e-02 1.873e-02 3.187e-03 1.497e+01\n",
            " 2.541e+01 9.766e+01 6.865e+02 1.313e-01 2.119e-01 2.267e-01 9.993e-02\n",
            " 2.822e-01 8.004e-02]\n"
          ]
        },
        {
          "output_type": "stream",
          "name": "stderr",
          "text": [
            "/usr/local/lib/python3.7/dist-packages/sklearn/base.py:451: UserWarning: X does not have valid feature names, but KNeighborsClassifier was fitted with feature names\n",
            "  \"X does not have valid feature names, but\"\n"
          ]
        },
        {
          "output_type": "execute_result",
          "data": {
            "text/plain": [
              "array([1])"
            ]
          },
          "metadata": {},
          "execution_count": 10
        }
      ],
      "source": [
        "def answer_six():\n",
        "    cancerdf = answer_one()    \n",
        "    # Your code here\n",
        "    classifier=answer_five()\n",
        "    median=cancerdf.median()[:-1]\n",
        "    print(median.values)\n",
        "    prediction= answer_five().predict(median.values.reshape(1,-1))\n",
        "\n",
        "    return prediction\n",
        "answer_six()"
      ],
      "id": "e6d989ab-6fd5-440a-933f-b6c6ff1072b4"
    },
    {
      "cell_type": "markdown",
      "metadata": {
        "id": "07065db3-e464-473f-ab71-dbfeeee097f6"
      },
      "source": [
        "### Question 7\n",
        "Using your knn classifier, predict the class labels for the test set `X_test`."
      ],
      "id": "07065db3-e464-473f-ab71-dbfeeee097f6"
    },
    {
      "cell_type": "code",
      "execution_count": 11,
      "metadata": {
        "id": "8f4b7833-53ee-4a3d-8dea-ad654cf3d47f"
      },
      "outputs": [],
      "source": [
        "def answer_seven():\n",
        "    X_train, X_test, y_train, y_test = answer_four()\n",
        "    knn = answer_five()\n",
        "    prediction=knn.predict(X_test)\n",
        "    # Your code here\n",
        "    \n",
        "    return prediction"
      ],
      "id": "8f4b7833-53ee-4a3d-8dea-ad654cf3d47f"
    },
    {
      "cell_type": "markdown",
      "metadata": {
        "id": "42288a73-b635-402d-8c26-229dc49c79f8"
      },
      "source": [
        "### Question 8\n",
        "Find the score (accuracy) of your knn classifier using `X_test` and `y_test` & `X_train` and `y_train`. \n",
        "- Is the training accuracy higher or lower that the testing accuracy? \n",
        "- According to the test accuracy, would this model generalize well to new inputs?\n",
        "\n",
        "-they r almost the same \n",
        "\n",
        "-yes\n"
      ],
      "id": "42288a73-b635-402d-8c26-229dc49c79f8"
    },
    {
      "cell_type": "code",
      "execution_count": 12,
      "metadata": {
        "colab": {
          "base_uri": "https://localhost:8080/"
        },
        "id": "27fa57dd-8326-4fe7-9110-4b5ba3d921fe",
        "outputId": "4bbdb664-869f-419d-9acc-7411416e8d29"
      },
      "outputs": [
        {
          "output_type": "execute_result",
          "data": {
            "text/plain": [
              "(0.94750656167979, 0.9361702127659575)"
            ]
          },
          "metadata": {},
          "execution_count": 12
        }
      ],
      "source": [
        "def answer_eight():\n",
        "    X_train, X_test, y_train, y_test = answer_four()\n",
        "    knn = answer_five()\n",
        "    trainingaccuracy=knn.score(X_train,y_train)\n",
        "    testaccuracy=knn.score(X_test,y_test)\n",
        "    return trainingaccuracy,testaccuracy\n",
        "answer_eight()"
      ],
      "id": "27fa57dd-8326-4fe7-9110-4b5ba3d921fe"
    },
    {
      "cell_type": "markdown",
      "metadata": {
        "id": "cb4d1ae2-967b-4df0-9bf0-2872b0c53535"
      },
      "source": [
        "### Question 9\n",
        "##### Accuracy Plot\n",
        "* Create `mal_train_X`, `mal_train_y`,`ben_train_X`,`ben_train_y`, `mal_test_X`,`mal_test_y`, `ben_test_X` and `ben_test_y` portions of the dataset. Where `mal_train_X` contains all training samples that belongs to malignant class while `mal_train_y` contains all labels of the samples that belongs to malignant class, and so on for other variables.\n",
        "\n",
        "* Calculate Accuracy scores for each case and save all the results in a list called `scores` using knn model from question 5.\n",
        "\n",
        "Try using the plotting function below to visualize the differet predicition scores between training and test sets, as well as malignant and benign cells."
      ],
      "id": "cb4d1ae2-967b-4df0-9bf0-2872b0c53535"
    },
    {
      "cell_type": "code",
      "execution_count": 13,
      "metadata": {
        "id": "830729b6-9aa7-46c5-8cd1-04a3a7408f3a"
      },
      "outputs": [],
      "source": [
        "import matplotlib.pyplot as plt\n",
        "def accuracy_plot():\n",
        "\n",
        "    %matplotlib inline\n",
        "\n",
        "    X_train, X_test, y_train, y_test = answer_four()\n",
        "\n",
        "    # Find the training and testing accuracies by target value (i.e. malignant, benign)\n",
        "    \n",
        "    # #################################################################################\n",
        "    # ###################### Write your code here #####################################\n",
        "    # #################################################################################\n",
        "    \n",
        "    mal_train_X = X_train[y_train==0]\n",
        "    mal_train_y = y_train[y_train==0]\n",
        "    ben_train_X = X_train[y_train==1]\n",
        "    ben_train_y = y_train[y_train==1]\n",
        "\n",
        "    mal_test_X = X_test[y_test==0]\n",
        "    mal_test_y = y_test[y_test==0]\n",
        "    ben_test_X = X_test[y_test==1]\n",
        "    ben_test_y = y_test[y_test==1]\n",
        "\n",
        "    knn = answer_five()\n",
        "\n",
        "    scores = [knn.score(mal_train_X, mal_train_y), knn.score(ben_train_X, ben_train_y), \n",
        "              knn.score(mal_test_X, mal_test_y), knn.score(ben_test_X, ben_test_y)]\n",
        "\n",
        "\n",
        "    plt.figure()\n",
        "\n",
        "    # Plot the scores as a bar chart\n",
        "    bars = plt.bar(np.arange(4), scores, color=['#4c72b0','#4c72b0','#55a868','#55a868'])\n",
        "\n",
        "    # directly label the score onto the bars\n",
        "    for bar in bars:\n",
        "        height = bar.get_height()\n",
        "        plt.gca().text(bar.get_x() + bar.get_width()/2, height*.90, '{0:.{1}f}'.format(height, 2), \n",
        "                     ha='center', color='w', fontsize=11)\n",
        "\n",
        "    # remove all the ticks (both axes), and tick labels on the Y axis\n",
        "    plt.tick_params(top='off', bottom='off', left='off', right='off', labelleft='off', labelbottom='on')\n",
        "\n",
        "    # remove the frame of the chart\n",
        "    for spine in plt.gca().spines.values():\n",
        "        spine.set_visible(False)\n",
        "\n",
        "    plt.xticks([0,1,2,3], ['Malignant\\nTraining', 'Benign\\nTraining', 'Malignant\\nTest', 'Benign\\nTest'], alpha=0.8);\n",
        "    plt.title('Training and Test Accuracies for Malignant and Benign Cells', alpha=0.8)\n"
      ],
      "id": "830729b6-9aa7-46c5-8cd1-04a3a7408f3a"
    },
    {
      "cell_type": "code",
      "execution_count": 14,
      "metadata": {
        "colab": {
          "base_uri": "https://localhost:8080/",
          "height": 293
        },
        "id": "75e16042-fcea-4769-87cb-3d289ebcd479",
        "outputId": "97ec034c-25f0-4a7b-df2d-c0d05ea99ae6"
      },
      "outputs": [
        {
          "output_type": "display_data",
          "data": {
            "image/png": "[encoded data removed]",
            "text/plain": [
              "<Figure size 432x288 with 1 Axes>"
            ]
          },
          "metadata": {
            "needs_background": "light"
          }
        }
      ],
      "source": [
        "accuracy_plot() "
      ],
      "id": "75e16042-fcea-4769-87cb-3d289ebcd479"
    },
    {
      "cell_type": "markdown",
      "metadata": {
        "id": "d3dda16d-0a7f-4376-a1e6-a82ca8b8e6eb"
      },
      "source": [
        "### Question 10\n",
        "1. Load Iris dataset from sklearn.\n",
        "2. Split the data into training and testing (30% testing)\n",
        "3. Create scatter plot.\n",
        "4. From the scatter plot choose two features only to train a knn model with suitable \"k\" of your choice.\n",
        "5. Evaluate your model performance and comment on your results."
      ],
      "id": "d3dda16d-0a7f-4376-a1e6-a82ca8b8e6eb"
    },
    {
      "cell_type": "code",
      "execution_count": 15,
      "metadata": {
        "colab": {
          "base_uri": "https://localhost:8080/"
        },
        "id": "L-YzxJGvztwL",
        "outputId": "d398e6aa-85e1-477b-8e4c-873a36733996"
      },
      "outputs": [
        {
          "output_type": "execute_result",
          "data": {
            "text/plain": [
              "dict_keys(['data', 'target', 'frame', 'target_names', 'DESCR', 'feature_names', 'filename', 'data_module'])"
            ]
          },
          "metadata": {},
          "execution_count": 15
        }
      ],
      "source": [
        "from sklearn.datasets import load_iris\n",
        "import numpy as np\n",
        "import pandas as pd\n",
        "from sklearn.model_selection import train_test_split\n",
        "from sklearn.neighbors import KNeighborsClassifier\n",
        "iris=load_iris()\n",
        "#print(iris.DESCR)\n",
        "iris.keys()"
      ],
      "id": "L-YzxJGvztwL"
    },
    {
      "cell_type": "code",
      "execution_count": 16,
      "metadata": {
        "id": "duyT_VFsaHys"
      },
      "outputs": [],
      "source": [
        "irisdf=pd.DataFrame(data=iris.data,columns=iris.feature_names)\n",
        "irisdf['target']=iris.target"
      ],
      "id": "duyT_VFsaHys"
    },
    {
      "cell_type": "code",
      "execution_count": 17,
      "metadata": {
        "id": "CBWo2C1SbAws"
      },
      "outputs": [],
      "source": [
        "y=irisdf['target']\n",
        "X=irisdf.iloc[:,:-1]\n",
        "X_train, X_test, y_train, y_test = train_test_split(X, y, test_size=0.3, shuffle=True)\n"
      ],
      "id": "CBWo2C1SbAws"
    },
    {
      "cell_type": "code",
      "execution_count": 18,
      "metadata": {
        "colab": {
          "base_uri": "https://localhost:8080/",
          "height": 601
        },
        "id": "6DU4V6lObw8E",
        "outputId": "c6df2282-3f93-4cca-e1ca-38bc15ad2e9e"
      },
      "outputs": [
        {
          "output_type": "display_data",
          "data": {
            "image/png": "[encoded data removed]",
            "text/plain": [
              "<Figure size 720x720 with 16 Axes>"
            ]
          },
          "metadata": {
            "needs_background": "light"
          }
        }
      ],
      "source": [
        "from matplotlib import cm\n",
        "%matplotlib inline\n",
        "\n",
        "cmap = cm.get_cmap('viridis')\n",
        "scatter = pd.plotting.scatter_matrix(X_train, c= y_train, marker = 'o', s=40, hist_kwds={'bins':15}, figsize=(10,10), cmap=cmap)"
      ],
      "id": "6DU4V6lObw8E"
    },
    {
      "cell_type": "code",
      "execution_count": 21,
      "metadata": {
        "id": "tlViarYJg3jf",
        "colab": {
          "base_uri": "https://localhost:8080/"
        },
        "outputId": "aaed8990-e6dd-41a8-c3c4-bffa6dec5747"
      },
      "outputs": [
        {
          "output_type": "stream",
          "name": "stdout",
          "text": [
            "0.9777777777777777\n"
          ]
        }
      ],
      "source": [
        "X= X[[\"petal length (cm)\", \"petal width (cm)\"]]\n",
        "X_train, X_test, y_train, y_test = train_test_split(X, y, test_size=0.3, shuffle=True)\n",
        "classifier= KNeighborsClassifier(n_neighbors = 1)\n",
        "classifier.fit(X_train, y_train)\n",
        "score = classifier.score(X_test, y_test)\n",
        "print(score)\n"
      ],
      "id": "tlViarYJg3jf"
    }
  ],
  "metadata": {
    "colab": {
      "collapsed_sections": [],
      "name": "Copy of A1_ML_intro.ipynb",
      "provenance": []
    },
    "kernelspec": {
      "display_name": "Python 3 (ipykernel)",
      "language": "python",
      "name": "python3"
    },
    "language_info": {
      "codemirror_mode": {
        "name": "ipython",
        "version": 3
      },
      "file_extension": ".py",
      "mimetype": "text/x-python",
      "name": "python",
      "nbconvert_exporter": "python",
      "pygments_lexer": "ipython3",
      "version": "3.10.2"
    }
  },
  "nbformat": 4,
  "nbformat_minor": 5
}