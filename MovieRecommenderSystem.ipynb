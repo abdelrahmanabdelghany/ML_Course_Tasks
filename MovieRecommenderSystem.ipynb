{
 "cells": [
  {
   "cell_type": "code",
   "execution_count": 58,
   "metadata": {},
   "outputs": [],
   "source": [
    "import pandas as pd\n",
    "import numpy as np\n",
    "from sklearn.feature_extraction.text import CountVectorizer\n",
    "from sklearn.metrics.pairwise import cosine_similarity\n",
    "movies_df = pd.read_csv(r\"C:\\Users\\Abdelrahman Muhsen\\Desktop\\ASS7AI\\ContentBasedRecommenderSystem\\movies.csv\")\n",
    "ratings_df = pd.read_csv(r\"C:\\Users\\Abdelrahman Muhsen\\Desktop\\ASS7AI\\ContentBasedRecommenderSystem\\ratings.csv\")\n"
   ]
  },
  {
   "cell_type": "code",
   "execution_count": 59,
   "metadata": {},
   "outputs": [
    {
     "name": "stdout",
     "output_type": "stream",
     "text": [
      "        rating                                               ...            \\\n",
      "userId     1    2    3    4    5    6    7    8    9    10   ...  191  192   \n",
      "movieId                                                      ...             \n",
      "1          4.0  0.0  0.0  0.0  4.0  0.0  4.5  0.0  0.0  0.0  ...  4.0  0.0   \n",
      "2          0.0  0.0  0.0  0.0  0.0  4.0  0.0  4.0  0.0  0.0  ...  0.0  0.0   \n",
      "3          4.0  0.0  0.0  0.0  0.0  5.0  0.0  0.0  0.0  0.0  ...  0.0  0.0   \n",
      "4          0.0  0.0  0.0  0.0  0.0  3.0  0.0  0.0  0.0  0.0  ...  0.0  0.0   \n",
      "5          0.0  0.0  0.0  0.0  0.0  5.0  0.0  0.0  0.0  0.0  ...  0.0  0.0   \n",
      "...        ...  ...  ...  ...  ...  ...  ...  ...  ...  ...  ...  ...  ...   \n",
      "256        0.0  0.0  0.0  0.0  0.0  3.0  0.0  0.0  0.0  0.0  ...  0.0  0.0   \n",
      "257        0.0  0.0  0.0  0.0  0.0  5.0  0.0  0.0  0.0  0.0  ...  0.0  0.0   \n",
      "258        0.0  0.0  0.0  0.0  0.0  3.0  0.0  0.0  0.0  0.0  ...  0.0  0.0   \n",
      "259        0.0  0.0  0.0  0.0  0.0  0.0  0.0  0.0  0.0  0.0  ...  0.0  0.0   \n",
      "260        5.0  0.0  0.0  5.0  0.0  0.0  5.0  0.0  0.0  0.0  ...  0.0  0.0   \n",
      "\n",
      "                                                 \n",
      "userId   193  194  195  196  197  198  199  200  \n",
      "movieId                                          \n",
      "1        2.0  0.0  0.0  0.0  0.0  0.0  0.0  3.5  \n",
      "2        0.0  0.0  0.0  0.0  0.0  0.0  0.0  0.0  \n",
      "3        0.0  0.0  0.0  0.0  0.0  0.0  0.0  0.0  \n",
      "4        0.0  0.0  0.0  0.0  0.0  0.0  0.0  0.0  \n",
      "5        0.0  0.0  0.0  0.0  0.0  0.0  0.0  4.0  \n",
      "...      ...  ...  ...  ...  ...  ...  ...  ...  \n",
      "256      0.0  0.0  0.0  0.0  0.0  0.0  0.0  0.0  \n",
      "257      0.0  0.0  0.0  0.0  0.0  0.0  0.0  0.0  \n",
      "258      0.0  0.0  0.0  0.0  0.0  0.0  0.0  0.0  \n",
      "259      0.0  0.0  0.0  0.0  0.0  0.0  0.0  0.0  \n",
      "260      5.0  0.0  4.0  0.0  0.0  5.0  4.0  5.0  \n",
      "\n",
      "[200 rows x 200 columns]\n"
     ]
    }
   ],
   "source": [
    "data=ratings_df[ratings_df.userId<=200]\n",
    "data = data.drop(['timestamp'], axis=1)\n",
    "data =data.groupby(['userId', 'movieId']).sum().reset_index().pivot(index='movieId', columns='userId').fillna(0)\n",
    "data=data.iloc[0:200 ,0:200]\n",
    "\n",
    "print(data)"
   ]
  },
  {
   "cell_type": "code",
   "execution_count": 60,
   "metadata": {},
   "outputs": [
    {
     "name": "stdout",
     "output_type": "stream",
     "text": [
      "[[1.         0.36463355 0.28482541 ... 0.1442169  0.12188553 0.53314711]\n",
      " [0.36463355 1.         0.27844551 ... 0.39148941 0.         0.37467155]\n",
      " [0.28482541 0.27844551 1.         ... 0.24385598 0.24044524 0.21150086]\n",
      " ...\n",
      " [0.1442169  0.39148941 0.24385598 ... 1.         0.         0.15974675]\n",
      " [0.12188553 0.         0.24044524 ... 0.         1.         0.        ]\n",
      " [0.53314711 0.37467155 0.21150086 ... 0.15974675 0.         1.        ]]\n"
     ]
    }
   ],
   "source": [
    "\n",
    "cosine_sim = cosine_similarity(data)\n",
    "print(cosine_sim)\n"
   ]
  },
  {
   "cell_type": "code",
   "execution_count": 61,
   "metadata": {},
   "outputs": [],
   "source": [
    "def gettitle(id):\n",
    "    return movies[movies.movieId ==id][\"title\"].values\n",
    "\n",
    "def recommender(movie_idx):\n",
    "    movietitle=gettitle(movie_idx)\n",
    "    print(\"movei to get matches to\",movietitle)\n",
    "    similar_movies = list(enumerate(cosine_sim[movie_idx]))\n",
    "    sorted_similar_movies = sorted(similar_movies, key=lambda x:x[1], reverse=True)\n",
    "    i=1\n",
    "    for movie in sorted_similar_movies[1:]:\n",
    "        recommmended=gettitle(movie[0])\n",
    "        if(recommmended.size>0):\n",
    "            print(recommmended)\n",
    "            i=i+1\n",
    "        if i>10:\n",
    "            break\n",
    "    return"
   ]
  },
  {
   "cell_type": "code",
   "execution_count": 62,
   "metadata": {},
   "outputs": [
    {
     "name": "stdout",
     "output_type": "stream",
     "text": [
      "movei to get matches to ['Toy Story (1995)']\n",
      "['Rumble in the Bronx (Hont faan kui) (1995)']\n",
      "['Dangerous Minds (1995)']\n",
      "['When Night Is Falling (1995)']\n",
      "['White Squall (1996)']\n",
      "['Batman Forever (1995)']\n",
      "['Down Periscope (1996)']\n",
      "[\"Antonia's Line (Antonia) (1995)\"]\n",
      "['Umbrellas of Cherbourg, The (Parapluies de Cherbourg, Les) (1964)']\n",
      "['Richard III (1995)']\n",
      "['Judge Dredd (1995)']\n"
     ]
    }
   ],
   "source": [
    "recommender(1)"
   ]
  },
  {
   "cell_type": "code",
   "execution_count": 63,
   "metadata": {},
   "outputs": [
    {
     "name": "stdout",
     "output_type": "stream",
     "text": [
      "movei to get matches to ['Waiting to Exhale (1995)']\n",
      "['Heat (1995)']\n",
      "['Bio-Dome (1996)']\n",
      "['Party Girl (1995)']\n",
      "['Crumb (1994)']\n",
      "['GoldenEye (1995)']\n",
      "['Heidi Fleiss: Hollywood Madam (1995)']\n",
      "['Sabrina (1995)']\n",
      "['When Night Is Falling (1995)']\n",
      "['Richard III (1995)']\n",
      "['Jumanji (1995)']\n"
     ]
    }
   ],
   "source": [
    "recommender(4)"
   ]
  },
  {
   "cell_type": "code",
   "execution_count": 64,
   "metadata": {},
   "outputs": [],
   "source": [
    "#recommend based on genres\n",
    "movies=movies_df[movies_df.movieId <=200]\n",
    "features = 'genres'\n",
    "cv = CountVectorizer()\n",
    "count_matrix = cv.fit_transform(movies[features])\n",
    "cosine_sim = cosine_similarity(count_matrix)\n",
    "def reommendbasedongenres(movie_idx):\n",
    "    movietitle=gettitle(movie_idx)\n",
    "    print(\"movei to get matches to\",movietitle)\n",
    "    similar_movies = list(enumerate(cosine_sim[movie_idx]))\n",
    "    sorted_similar_movies = sorted(similar_movies, key=lambda x:x[1], reverse=True)\n",
    "    i=1\n",
    "    print(\"sorted_similar_movies\")\n",
    "    for movie in sorted_similar_movies[1:]:\n",
    "        recommmended=gettitle(movie[0])\n",
    "        if(recommmended.size>0):\n",
    "            print(recommmended)\n",
    "            i=i+1\n",
    "        if i>10:\n",
    "            break\n",
    "    return"
   ]
  },
  {
   "cell_type": "code",
   "execution_count": 65,
   "metadata": {},
   "outputs": [
    {
     "name": "stdout",
     "output_type": "stream",
     "text": [
      "movei to get matches to ['Toy Story (1995)']\n",
      "sorted_similar_movies\n",
      "['Lamerica (1994)']\n",
      "['Sabrina (1995)']\n",
      "['Steal Big, Steal Little (1995)']\n",
      "['Dracula: Dead and Loving It (1995)']\n",
      "['Cry, the Beloved Country (1995)']\n",
      "['Birdcage, The (1996)']\n",
      "['Broken Arrow (1996)']\n",
      "['Persuasion (1995)']\n",
      "['Othello (1995)']\n",
      "['Twelve Monkeys (a.k.a. 12 Monkeys) (1995)']\n"
     ]
    }
   ],
   "source": [
    "reommendbasedongenres(1)"
   ]
  },
  {
   "cell_type": "code",
   "execution_count": 66,
   "metadata": {},
   "outputs": [
    {
     "name": "stdout",
     "output_type": "stream",
     "text": [
      "movei to get matches to ['Waiting to Exhale (1995)']\n",
      "sorted_similar_movies\n",
      "['Sense and Sensibility (1995)']\n",
      "['Four Rooms (1995)']\n",
      "['Postman, The (Postino, Il) (1994)']\n",
      "['Eye for an Eye (1996)']\n",
      "['Juror, The (1996)']\n",
      "['Mary Reilly (1996)']\n",
      "['Happy Gilmore (1996)']\n",
      "['Catwalk (1996)']\n",
      "['Before and After (1996)']\n",
      "['Anne Frank Remembered (1995)']\n"
     ]
    }
   ],
   "source": [
    "reommendbasedongenres(4)"
   ]
  },
  {
   "cell_type": "code",
   "execution_count": null,
   "metadata": {},
   "outputs": [],
   "source": []
  }
 ],
 "metadata": {
  "interpreter": {
   "hash": "5c6a211c216078c86ba3e601b9554879783dd259093af23477b360d84afdc070"
  },
  "kernelspec": {
   "display_name": "Python 3.9.0 64-bit",
   "language": "python",
   "name": "python3"
  },
  "language_info": {
   "codemirror_mode": {
    "name": "ipython",
    "version": 3
   },
   "file_extension": ".py",
   "mimetype": "text/x-python",
   "name": "python",
   "nbconvert_exporter": "python",
   "pygments_lexer": "ipython3",
   "version": "3.9.0"
  },
  "orig_nbformat": 4
 },
 "nbformat": 4,
 "nbformat_minor": 2
}
